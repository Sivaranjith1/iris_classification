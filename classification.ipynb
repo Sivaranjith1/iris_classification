{
 "cells": [
  {
   "cell_type": "code",
   "execution_count": 1,
   "metadata": {},
   "outputs": [],
   "source": [
    "import numpy as np\n",
    "import pandas as pd\n",
    "import seaborn as sn\n",
    "import matplotlib.pyplot as plt"
   ]
  },
  {
   "cell_type": "code",
   "execution_count": 2,
   "metadata": {},
   "outputs": [],
   "source": [
    "np.random.seed(0)"
   ]
  },
  {
   "cell_type": "markdown",
   "metadata": {},
   "source": [
    "# Loading the data"
   ]
  },
  {
   "cell_type": "code",
   "execution_count": 3,
   "metadata": {},
   "outputs": [
    {
     "data": {
      "text/html": [
       "<div>\n",
       "<style scoped>\n",
       "    .dataframe tbody tr th:only-of-type {\n",
       "        vertical-align: middle;\n",
       "    }\n",
       "\n",
       "    .dataframe tbody tr th {\n",
       "        vertical-align: top;\n",
       "    }\n",
       "\n",
       "    .dataframe thead th {\n",
       "        text-align: right;\n",
       "    }\n",
       "</style>\n",
       "<table border=\"1\" class=\"dataframe\">\n",
       "  <thead>\n",
       "    <tr style=\"text-align: right;\">\n",
       "      <th></th>\n",
       "      <th>sepal_length</th>\n",
       "      <th>sepal_width</th>\n",
       "      <th>petal_length</th>\n",
       "      <th>petal_width</th>\n",
       "      <th>class</th>\n",
       "    </tr>\n",
       "  </thead>\n",
       "  <tbody>\n",
       "    <tr>\n",
       "      <th>0</th>\n",
       "      <td>5.1</td>\n",
       "      <td>3.5</td>\n",
       "      <td>1.4</td>\n",
       "      <td>0.2</td>\n",
       "      <td>Iris-setosa</td>\n",
       "    </tr>\n",
       "    <tr>\n",
       "      <th>1</th>\n",
       "      <td>4.9</td>\n",
       "      <td>3.0</td>\n",
       "      <td>1.4</td>\n",
       "      <td>0.2</td>\n",
       "      <td>Iris-setosa</td>\n",
       "    </tr>\n",
       "    <tr>\n",
       "      <th>2</th>\n",
       "      <td>4.7</td>\n",
       "      <td>3.2</td>\n",
       "      <td>1.3</td>\n",
       "      <td>0.2</td>\n",
       "      <td>Iris-setosa</td>\n",
       "    </tr>\n",
       "    <tr>\n",
       "      <th>3</th>\n",
       "      <td>4.6</td>\n",
       "      <td>3.1</td>\n",
       "      <td>1.5</td>\n",
       "      <td>0.2</td>\n",
       "      <td>Iris-setosa</td>\n",
       "    </tr>\n",
       "    <tr>\n",
       "      <th>4</th>\n",
       "      <td>5.0</td>\n",
       "      <td>3.6</td>\n",
       "      <td>1.4</td>\n",
       "      <td>0.2</td>\n",
       "      <td>Iris-setosa</td>\n",
       "    </tr>\n",
       "  </tbody>\n",
       "</table>\n",
       "</div>"
      ],
      "text/plain": [
       "   sepal_length  sepal_width  petal_length  petal_width        class\n",
       "0           5.1          3.5           1.4          0.2  Iris-setosa\n",
       "1           4.9          3.0           1.4          0.2  Iris-setosa\n",
       "2           4.7          3.2           1.3          0.2  Iris-setosa\n",
       "3           4.6          3.1           1.5          0.2  Iris-setosa\n",
       "4           5.0          3.6           1.4          0.2  Iris-setosa"
      ]
     },
     "execution_count": 3,
     "metadata": {},
     "output_type": "execute_result"
    }
   ],
   "source": [
    "data = pd.read_csv('dataset/iris.data', header=None)\n",
    "data.columns = [\"sepal_length\", \"sepal_width\", \"petal_length\", \"petal_width\", \"class\"]\n",
    "data.head()"
   ]
  },
  {
   "cell_type": "code",
   "execution_count": 4,
   "metadata": {},
   "outputs": [
    {
     "data": {
      "text/html": [
       "<div>\n",
       "<style scoped>\n",
       "    .dataframe tbody tr th:only-of-type {\n",
       "        vertical-align: middle;\n",
       "    }\n",
       "\n",
       "    .dataframe tbody tr th {\n",
       "        vertical-align: top;\n",
       "    }\n",
       "\n",
       "    .dataframe thead th {\n",
       "        text-align: right;\n",
       "    }\n",
       "</style>\n",
       "<table border=\"1\" class=\"dataframe\">\n",
       "  <thead>\n",
       "    <tr style=\"text-align: right;\">\n",
       "      <th></th>\n",
       "      <th>sepal_length</th>\n",
       "      <th>sepal_width</th>\n",
       "      <th>petal_length</th>\n",
       "      <th>petal_width</th>\n",
       "      <th>class</th>\n",
       "    </tr>\n",
       "  </thead>\n",
       "  <tbody>\n",
       "    <tr>\n",
       "      <th>145</th>\n",
       "      <td>6.7</td>\n",
       "      <td>3.0</td>\n",
       "      <td>5.2</td>\n",
       "      <td>2.3</td>\n",
       "      <td>2</td>\n",
       "    </tr>\n",
       "    <tr>\n",
       "      <th>146</th>\n",
       "      <td>6.3</td>\n",
       "      <td>2.5</td>\n",
       "      <td>5.0</td>\n",
       "      <td>1.9</td>\n",
       "      <td>2</td>\n",
       "    </tr>\n",
       "    <tr>\n",
       "      <th>147</th>\n",
       "      <td>6.5</td>\n",
       "      <td>3.0</td>\n",
       "      <td>5.2</td>\n",
       "      <td>2.0</td>\n",
       "      <td>2</td>\n",
       "    </tr>\n",
       "    <tr>\n",
       "      <th>148</th>\n",
       "      <td>6.2</td>\n",
       "      <td>3.4</td>\n",
       "      <td>5.4</td>\n",
       "      <td>2.3</td>\n",
       "      <td>2</td>\n",
       "    </tr>\n",
       "    <tr>\n",
       "      <th>149</th>\n",
       "      <td>5.9</td>\n",
       "      <td>3.0</td>\n",
       "      <td>5.1</td>\n",
       "      <td>1.8</td>\n",
       "      <td>2</td>\n",
       "    </tr>\n",
       "  </tbody>\n",
       "</table>\n",
       "</div>"
      ],
      "text/plain": [
       "     sepal_length  sepal_width  petal_length  petal_width  class\n",
       "145           6.7          3.0           5.2          2.3      2\n",
       "146           6.3          2.5           5.0          1.9      2\n",
       "147           6.5          3.0           5.2          2.0      2\n",
       "148           6.2          3.4           5.4          2.3      2\n",
       "149           5.9          3.0           5.1          1.8      2"
      ]
     },
     "execution_count": 4,
     "metadata": {},
     "output_type": "execute_result"
    }
   ],
   "source": [
    "data['class'] = data['class'].map({'Iris-setosa': 0, 'Iris-versicolor': 1, 'Iris-virginica': 2})\n",
    "data.tail()"
   ]
  },
  {
   "cell_type": "code",
   "execution_count": 5,
   "metadata": {},
   "outputs": [
    {
     "data": {
      "text/plain": [
       "((90, 5), (60, 5))"
      ]
     },
     "execution_count": 5,
     "metadata": {},
     "output_type": "execute_result"
    }
   ],
   "source": [
    "data_np = data.to_numpy()\n",
    "training, test = data_np[:30, :], data_np[30:50, :]\n",
    "training, test = np.append(training, data_np[50:80, :], axis=0), np.append(test, data_np[80:100, :], axis=0)\n",
    "training, test = np.append(training, data_np[100:130, :], axis=0), np.append(test, data_np[130:, :], axis=0)\n",
    "training.shape, test.shape"
   ]
  },
  {
   "cell_type": "code",
   "execution_count": 6,
   "metadata": {},
   "outputs": [
    {
     "data": {
      "text/plain": [
       "(array([[5.1, 3.5, 1.4, 0.2],\n",
       "        [4.9, 3. , 1.4, 0.2],\n",
       "        [4.7, 3.2, 1.3, 0.2]]),\n",
       " array([0., 0., 0.]),\n",
       " array([[4.8, 3.1, 1.6, 0.2],\n",
       "        [5.4, 3.4, 1.5, 0.4],\n",
       "        [5.2, 4.1, 1.5, 0.1]]),\n",
       " array([0., 0., 0.]))"
      ]
     },
     "execution_count": 6,
     "metadata": {},
     "output_type": "execute_result"
    }
   ],
   "source": [
    "X_train, y_train = training[:, :-1], training[:, -1]\n",
    "X_test, y_test = test[:, :-1], test[:, -1]\n",
    "X_train[:3], y_train[:3], X_test[:3], y_test[:3]"
   ]
  },
  {
   "cell_type": "markdown",
   "metadata": {},
   "source": [
    "Add a column of one to the dataset"
   ]
  },
  {
   "cell_type": "code",
   "execution_count": 7,
   "metadata": {},
   "outputs": [
    {
     "data": {
      "text/plain": [
       "(array([[1. , 5.1, 3.5, 1.4, 0.2],\n",
       "        [1. , 4.9, 3. , 1.4, 0.2],\n",
       "        [1. , 4.7, 3.2, 1.3, 0.2]]),\n",
       " array([[1. , 4.8, 3.1, 1.6, 0.2],\n",
       "        [1. , 5.4, 3.4, 1.5, 0.4],\n",
       "        [1. , 5.2, 4.1, 1.5, 0.1]]))"
      ]
     },
     "execution_count": 7,
     "metadata": {},
     "output_type": "execute_result"
    }
   ],
   "source": [
    "X_train = np.c_[np.ones(X_train.shape[0]), X_train]\n",
    "X_test = np.c_[np.ones(X_test.shape[0]), X_test]\n",
    "X_train[:3], X_test[:3]"
   ]
  },
  {
   "cell_type": "markdown",
   "metadata": {},
   "source": [
    "# MSE\n",
    "Mean square function for (19) in compendium\n",
    "$$\n",
    "    MSE = \\frac{1}{2} \\sum_{k = 1}^N (g_k - t_k)^T (g_k - t_k)\n",
    "$$"
   ]
  },
  {
   "cell_type": "code",
   "execution_count": 8,
   "metadata": {},
   "outputs": [],
   "source": [
    "def mse(g_k, t_k):\n",
    "    \"\"\"\n",
    "    Mean squared error\n",
    "    :param g_k: predicted value\n",
    "    :param t_k: target value\n",
    "    :return: mean squared error\n",
    "    \"\"\"\n",
    "    return np.matmul((g_k - t_k).T, (g_k - t_k)) / 2"
   ]
  },
  {
   "cell_type": "markdown",
   "metadata": {},
   "source": [
    "The gradient is given as\n",
    "$$\n",
    "\\nabla_{g_k} MSE = g_k - t_k\n",
    "$$"
   ]
  },
  {
   "cell_type": "markdown",
   "metadata": {},
   "source": [
    "In equation (22) from the compendium, following gradient for MSE is given with respect to weights\n",
    "$$\n",
    "\\nabla_W MSE = \\sum_{k=1}^N  [(g_k - t_k) \\cdot g_k \\cdot (1 - g_k)] x_k^T\n",
    "$$\n",
    "\n",
    "where $\\cdot$ is elementwise multiplication "
   ]
  },
  {
   "cell_type": "code",
   "execution_count": 9,
   "metadata": {},
   "outputs": [],
   "source": [
    "def mse_grad_w(g_k, t_k, x_k):\n",
    "    \"\"\"\n",
    "    Calculate the gradient of MSE\n",
    "    :param g_k: predicted value\n",
    "    :param t_k: target value\n",
    "    :param x_k: input data\n",
    "    :return: gradient of MSE\n",
    "    \"\"\"\n",
    "    elementwise = np.multiply(\n",
    "            g_k - t_k, \n",
    "            np.multiply(g_k, (1 - g_k))\n",
    "        )\n",
    "    return np.multiply(\n",
    "        elementwise,\n",
    "        x_k.T\n",
    "    )"
   ]
  },
  {
   "cell_type": "markdown",
   "metadata": {},
   "source": [
    "# Sigmoid function\n",
    "The sigmoid function is used as an activation function\n",
    "$$\n",
    "    g_k = \\frac{1}{1+e^{-Wx_k}}\n",
    "$$"
   ]
  },
  {
   "cell_type": "code",
   "execution_count": 10,
   "metadata": {},
   "outputs": [],
   "source": [
    "def sigmoid(weights, x_k):\n",
    "    \"\"\"\n",
    "    sigmoid function\n",
    "    :param weights: weights\n",
    "    :param x_k: input data\n",
    "    :return: sigmoid value\n",
    "    \"\"\"\n",
    "    return 1 / (1 + np.exp(-np.matmul( weights, x_k)))"
   ]
  },
  {
   "cell_type": "markdown",
   "metadata": {},
   "source": [
    "For training the weights can be updated using\n",
    "$$\n",
    "W(m) = W(m - 1) - \\alpha \\nabla_W MSE\n",
    "$$"
   ]
  },
  {
   "cell_type": "code",
   "execution_count": 11,
   "metadata": {},
   "outputs": [],
   "source": [
    "class LinearClassifier:\n",
    "    def __init__(self, weight_dimention, learning_rate=0.01, n_iters=1000):\n",
    "        self.learning_rate = learning_rate\n",
    "        self.n_iters = n_iters\n",
    "        self.weights = np.random.rand(1, weight_dimention)\n",
    "        self.historic_mse = []\n",
    "\n",
    "    def train(self, X, y):\n",
    "        for _ in range(self.n_iters):\n",
    "            grad_mse_value = 0\n",
    "            mse_value = 0\n",
    "\n",
    "            for i in range(X.shape[0]):\n",
    "                g_k = sigmoid(self.weights, X[i].T)\n",
    "                mse_value += mse(g_k, y[i])\n",
    "                grad_mse_value += mse_grad_w(g_k, y[i], X[i].T)\n",
    "            \n",
    "            self.historic_mse.append(mse_value)\n",
    "            self.weights -= self.learning_rate * grad_mse_value\n",
    "\n",
    "    def predict(self, X):\n",
    "        output = []\n",
    "        for i in range(X.shape[0]):\n",
    "            output.append(np.round_(sigmoid(self.weights, X[i].T)))\n",
    "        return np.array(output)\n",
    "\n",
    "    def test(self, X, y):\n",
    "        output = self.predict(X)\n",
    "        return np.mean(output == y)"
   ]
  },
  {
   "cell_type": "code",
   "execution_count": 12,
   "metadata": {},
   "outputs": [],
   "source": [
    "def multi_class_linear_classifier(n_iters=1000, learning_rate=0.01):\n",
    "    numeric_to_setosa = np.vectorize(lambda val: 1 if val == 0 else 0)\n",
    "    y_train_class_setosa = numeric_to_setosa(y_train)\n",
    "\n",
    "    numeric_to_virginica = np.vectorize(lambda val: 1 if val == 2 else 0)\n",
    "    y_train_class_virginica = numeric_to_virginica(y_train)\n",
    "\n",
    "    classifier_setosa = LinearClassifier(X_train.shape[1], learning_rate, n_iters)\n",
    "    classifier_setosa.train(X_train, y_train_class_setosa)\n",
    "    plt.plot(classifier_setosa.historic_mse, label=\"Setosa\")\n",
    "\n",
    "    classifier_viriginica = LinearClassifier(X_train.shape[1], learning_rate, n_iters)\n",
    "    classifier_viriginica.train(X_train, y_train_class_virginica)\n",
    "    plt.plot(classifier_viriginica.historic_mse, label=\"Virginica\")\n",
    "    plt.legend(['MSE for Iris Setosa', 'MSE for Iris Virginica'], loc=\"upper right\")\n",
    "    plt.xlabel(\"Iterations\")\n",
    "    plt.ylabel(\"MSE\")\n",
    "    plt.show()\n",
    "    return classifier_setosa, classifier_viriginica\n"
   ]
  },
  {
   "cell_type": "code",
   "execution_count": 13,
   "metadata": {},
   "outputs": [],
   "source": [
    "def multi_class_linear_classifier_predict(classifier_setosa, classifier_viriginica, X):\n",
    "    output = []\n",
    "    setosa_pred = classifier_setosa.predict(X)\n",
    "    viriginica_pred = classifier_viriginica.predict(X)\n",
    "    for i in range(X.shape[0]):\n",
    "        if viriginica_pred[i] == 1:\n",
    "            output.append(2)\n",
    "        elif setosa_pred[i] == 1:\n",
    "            output.append(0)\n",
    "        else:\n",
    "            output.append(1)\n",
    "\n",
    "       \n",
    "    return np.array(output)"
   ]
  },
  {
   "cell_type": "code",
   "execution_count": 14,
   "metadata": {},
   "outputs": [],
   "source": [
    "def multi_class_linear_classifier_test(classifier_setosa, classifier_viriginica, X, y):\n",
    "    predicted_value = multi_class_linear_classifier_predict(classifier_setosa, classifier_viriginica, X)\n",
    "    return np.mean(predicted_value == y)"
   ]
  },
  {
   "cell_type": "code",
   "execution_count": 15,
   "metadata": {},
   "outputs": [
    {
     "data": {
      "image/png": "[encoded data removed]",
      "text/plain": [
       "<Figure size 432x288 with 1 Axes>"
      ]
     },
     "metadata": {
      "needs_background": "light"
     },
     "output_type": "display_data"
    }
   ],
   "source": [
    "classifier_setosa, classifier_viriginica = multi_class_linear_classifier(learning_rate=0.005, n_iters=4000)"
   ]
  },
  {
   "cell_type": "code",
   "execution_count": 16,
   "metadata": {},
   "outputs": [
    {
     "data": {
      "text/plain": [
       "0.3333333333333333"
      ]
     },
     "execution_count": 16,
     "metadata": {},
     "output_type": "execute_result"
    }
   ],
   "source": [
    "classifier_setosa.test(X_test, y_test)"
   ]
  },
  {
   "cell_type": "code",
   "execution_count": 17,
   "metadata": {},
   "outputs": [
    {
     "data": {
      "text/plain": [
       "0.9833333333333333"
      ]
     },
     "execution_count": 17,
     "metadata": {},
     "output_type": "execute_result"
    }
   ],
   "source": [
    "multi_class_linear_classifier_test(classifier_setosa, classifier_viriginica, X_test, y_test)"
   ]
  },
  {
   "cell_type": "code",
   "execution_count": 18,
   "metadata": {},
   "outputs": [],
   "source": [
    "pred = multi_class_linear_classifier_predict(classifier_setosa, classifier_viriginica, X_test)"
   ]
  },
  {
   "cell_type": "code",
   "execution_count": 19,
   "metadata": {},
   "outputs": [],
   "source": [
    "def confusion_matrix(y_test, pred):\n",
    "    \"\"\"\n",
    "    Calculate confusion matrix\n",
    "    :param y_test: target value\n",
    "    :param pred: predicted value\n",
    "    :return: confusion matrix\n",
    "    \"\"\"\n",
    "    y_actu = pd.Series(y_test, name='Actual')\n",
    "    y_pred = pd.Series(pred, name='Predicted')\n",
    "    df_confusion = pd.crosstab(y_actu, y_pred)\n",
    "    print(df_confusion)"
   ]
  },
  {
   "cell_type": "code",
   "execution_count": 20,
   "metadata": {},
   "outputs": [
    {
     "name": "stdout",
     "output_type": "stream",
     "text": [
      "Predicted   0   1   2\n",
      "Actual               \n",
      "0.0        20   0   0\n",
      "1.0         0  19   1\n",
      "2.0         0   0  20\n"
     ]
    }
   ],
   "source": [
    "confusion_matrix(y_test, pred)"
   ]
  },
  {
   "cell_type": "code",
   "execution_count": null,
   "metadata": {},
   "outputs": [],
   "source": []
  }
 ],
 "metadata": {
  "interpreter": {
   "hash": "cb29a90fbe311595cd13aaae032a8f62aa56e3f9eb1fc44bb596b8d3cfeb8857"
  },
  "kernelspec": {
   "display_name": "Python 3.10.4 ('estimation')",
   "language": "python",
   "name": "python3"
  },
  "language_info": {
   "codemirror_mode": {
    "name": "ipython",
    "version": 3
   },
   "file_extension": ".py",
   "mimetype": "text/x-python",
   "name": "python",
   "nbconvert_exporter": "python",
   "pygments_lexer": "ipython3",
   "version": "3.9.12"
  },
  "orig_nbformat": 4
 },
 "nbformat": 4,
 "nbformat_minor": 2
}
